{
 "cells": [
  {
   "cell_type": "code",
   "execution_count": 43,
   "metadata": {},
   "outputs": [
    {
     "data": {
      "text/plain": [
       "172942"
      ]
     },
     "execution_count": 43,
     "metadata": {},
     "output_type": "execute_result"
    }
   ],
   "source": [
    "import pandas as pd\n",
    "\n",
    "# Get the data into a data frame.\n",
    "df = pd.read_csv('Norming_Unique_AnswersCSV.csv')\n",
    "\n",
    "# Get only the non-matching items\n",
    "df_match_0 = df[df[\"Match\"] == 0]\n",
    "placeholder = \"placeholder\"\n",
    "\n",
    "myHTML = '<html><body><head><link rel=\"stylesheet\" href=\"myStyle.css\"></head><body>'\n",
    "\n",
    "for _, row in df_match_0.iterrows():\n",
    "    if df_match_0['ImgName'][_] != placeholder:\n",
    "        placeholder = df_match_0['ImgName'][_]\n",
    "        myHTML = myHTML + '</div></div>'\n",
    "        myHTML = myHTML + '_________________________________________________<br>'\n",
    "        myHTML = myHTML + '<H3>' 'Filename : ' + df_match_0['ImgName'][_] + '</H3><br>'\n",
    "        myHTML = myHTML + '<img src=\"'+'images/'+df_match_0['ImgName'][_] + '\"/><br>'\n",
    "        myHTML = myHTML + 'Expected : ' + df_match_0['Expected'][_] + '<br>'\n",
    "        \n",
    "        myHTML = myHTML + '<div class=\"row\">'\n",
    "        myHTML = myHTML + '<div class=\"columnleft\">'\n",
    "\n",
    "        x = 0\n",
    "\n",
    "        if df_match_0['Participant Language'][_] == 'tu':\n",
    "            if x == 0:\n",
    "                myHTML = myHTML + '</div><div class=\"columnright\">'    \n",
    "                myHTML = myHTML + '....................................................<br>'\n",
    "                myHTML = myHTML + 'Error : ' + df_match_0['Response'][_] + '<br>'\n",
    "                myHTML = myHTML + 'Turkish -> English: ' + df_match_0['Response in English'][_] + '<br>'\n",
    "                myHTML = myHTML + 'Turkish Expected: ' + df_match_0['Expected'][_] + '<br>'\n",
    "                x = 1\n",
    "            else:\n",
    "                myHTML = myHTML + '....................................................<br>'\n",
    "                myHTML = myHTML + 'Error : ' + df_match_0['Response'][_] + '<br>'\n",
    "                myHTML = myHTML + 'Turkish -> English: ' + df_match_0['Response in English'][_] + '<br>'\n",
    "                myHTML = myHTML + 'Turkish Expected: ' + df_match_0['Expected'][_] + '<br>'          \n",
    "        else:\n",
    "            myHTML = myHTML + 'Error : ' + df_match_0['Response'][_] + '<br>'\n",
    "       \n",
    "    else:\n",
    "        x = 0\n",
    "        \n",
    "        if df_match_0['Participant Language'][_] == 'tu':\n",
    "            if x == 0:\n",
    "                myHTML = myHTML + '</div><div class=\"columnright\">'    \n",
    "                myHTML = myHTML + '....................................................<br>'\n",
    "                myHTML = myHTML + 'Error : ' + df_match_0['Response'][_] + '<br>'\n",
    "                myHTML = myHTML + 'Turkish -> English: ' + df_match_0['Response in English'][_] + '<br>'\n",
    "                myHTML = myHTML + 'Turkish Expected: ' + df_match_0['Expected'][_] + '<br>'\n",
    "                x = 1\n",
    "            else:\n",
    "                myHTML = myHTML + '....................................................<br>'\n",
    "                myHTML = myHTML + 'Error : ' + df_match_0['Response'][_] + '<br>'\n",
    "                myHTML = myHTML + 'Turkish -> English: ' + df_match_0['Response in English'][_] + '<br>'\n",
    "                myHTML = myHTML + 'Turkish Expected: ' + df_match_0['Expected'][_] + '<br>'          \n",
    "        else:\n",
    "            myHTML = myHTML + 'Error : ' + df_match_0['Response'][_] + '<br>'\n",
    "    \n",
    "\n",
    "myHTML = myHTML+\"</div></body></html>\"\n",
    "hs = open(\"output.html\", 'w')\n",
    "hs.write(myHTML)"
   ]
  }
 ],
 "metadata": {
  "interpreter": {
   "hash": "916dbcbb3f70747c44a77c7bcd40155683ae19c65e1c03b4aa3499c5328201f1"
  },
  "kernelspec": {
   "display_name": "Python 3.8.10 64-bit",
   "language": "python",
   "name": "python3"
  },
  "language_info": {
   "codemirror_mode": {
    "name": "ipython",
    "version": 3
   },
   "file_extension": ".py",
   "mimetype": "text/x-python",
   "name": "python",
   "nbconvert_exporter": "python",
   "pygments_lexer": "ipython3",
   "version": "3.8.10"
  },
  "orig_nbformat": 4
 },
 "nbformat": 4,
 "nbformat_minor": 2
}
